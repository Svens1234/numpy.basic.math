{
 "cells": [
  {
   "cell_type": "code",
   "execution_count": 8,
   "id": "025bb1a7",
   "metadata": {},
   "outputs": [],
   "source": [
    "import numpy as np\n",
    "import matplotlib.pyplot as plt\n",
    "from numpy import random"
   ]
  },
  {
   "cell_type": "code",
   "execution_count": 2,
   "id": "5049d5da",
   "metadata": {},
   "outputs": [],
   "source": [
    "arr_3 = np.array([1, 2, 3, 4])\n",
    "arr_4 = np.array([2, 4, 6, 8])"
   ]
  },
  {
   "cell_type": "code",
   "execution_count": 3,
   "id": "f13514f8",
   "metadata": {},
   "outputs": [
    {
     "data": {
      "text/plain": [
       "array([ 3,  6,  9, 12])"
      ]
     },
     "execution_count": 3,
     "metadata": {},
     "output_type": "execute_result"
    }
   ],
   "source": [
    "arr_3 + arr_4"
   ]
  },
  {
   "cell_type": "code",
   "execution_count": 4,
   "id": "582e9309",
   "metadata": {},
   "outputs": [
    {
     "data": {
      "text/plain": [
       "array([-1, -2, -3, -4])"
      ]
     },
     "execution_count": 4,
     "metadata": {},
     "output_type": "execute_result"
    }
   ],
   "source": [
    "arr_3 - arr_4"
   ]
  },
  {
   "cell_type": "code",
   "execution_count": 5,
   "id": "460459a6",
   "metadata": {},
   "outputs": [
    {
     "data": {
      "text/plain": [
       "array([ 2,  8, 18, 32])"
      ]
     },
     "execution_count": 5,
     "metadata": {},
     "output_type": "execute_result"
    }
   ],
   "source": [
    "arr_3 * arr_4"
   ]
  },
  {
   "cell_type": "code",
   "execution_count": 6,
   "id": "c0fef7d9",
   "metadata": {},
   "outputs": [
    {
     "data": {
      "text/plain": [
       "array([0.5, 0.5, 0.5, 0.5])"
      ]
     },
     "execution_count": 6,
     "metadata": {},
     "output_type": "execute_result"
    }
   ],
   "source": [
    "arr_3 / arr_4"
   ]
  },
  {
   "cell_type": "code",
   "execution_count": 9,
   "id": "3f2027a2",
   "metadata": {},
   "outputs": [],
   "source": [
    "arr_5 = random.randint(100, size=(4))"
   ]
  },
  {
   "cell_type": "code",
   "execution_count": 10,
   "id": "8acd815e",
   "metadata": {},
   "outputs": [
    {
     "data": {
      "text/plain": [
       "array([92, 67, 19, 29])"
      ]
     },
     "execution_count": 10,
     "metadata": {},
     "output_type": "execute_result"
    }
   ],
   "source": [
    "arr_5"
   ]
  },
  {
   "cell_type": "code",
   "execution_count": 11,
   "id": "00a7c94b",
   "metadata": {},
   "outputs": [],
   "source": [
    "arr_6 = random.randint(100, size=(2, 3))"
   ]
  },
  {
   "cell_type": "code",
   "execution_count": 12,
   "id": "ccffa98c",
   "metadata": {},
   "outputs": [
    {
     "data": {
      "text/plain": [
       "array([[32, 47, 18],\n",
       "       [94, 32, 64]])"
      ]
     },
     "execution_count": 12,
     "metadata": {},
     "output_type": "execute_result"
    }
   ],
   "source": [
    "arr_6"
   ]
  },
  {
   "cell_type": "code",
   "execution_count": 13,
   "id": "3dd93e7b",
   "metadata": {},
   "outputs": [
    {
     "data": {
      "text/plain": [
       "array([0.78799359, 0.83147808, 0.56345587, 0.67205887])"
      ]
     },
     "execution_count": 13,
     "metadata": {},
     "output_type": "execute_result"
    }
   ],
   "source": [
    "random.rand(4)"
   ]
  },
  {
   "cell_type": "code",
   "execution_count": 14,
   "id": "53f17ee8",
   "metadata": {},
   "outputs": [
    {
     "data": {
      "text/plain": [
       "4"
      ]
     },
     "execution_count": 14,
     "metadata": {},
     "output_type": "execute_result"
    }
   ],
   "source": [
    "random.choice(arr_3)"
   ]
  },
  {
   "cell_type": "code",
   "execution_count": 15,
   "id": "891437bf",
   "metadata": {},
   "outputs": [
    {
     "data": {
      "text/plain": [
       "10"
      ]
     },
     "execution_count": 15,
     "metadata": {},
     "output_type": "execute_result"
    }
   ],
   "source": [
    "arr_3.sum()"
   ]
  },
  {
   "cell_type": "code",
   "execution_count": 16,
   "id": "44e8078d",
   "metadata": {},
   "outputs": [
    {
     "name": "stdout",
     "output_type": "stream",
     "text": [
      "[[32 47 18]\n",
      " [94 32 64]]\n"
     ]
    }
   ],
   "source": [
    "print(arr_6)"
   ]
  },
  {
   "cell_type": "code",
   "execution_count": 17,
   "id": "c07bde28",
   "metadata": {},
   "outputs": [
    {
     "data": {
      "text/plain": [
       "array([126,  79,  82])"
      ]
     },
     "execution_count": 17,
     "metadata": {},
     "output_type": "execute_result"
    }
   ],
   "source": [
    "arr_6.sum(axis=0)"
   ]
  },
  {
   "cell_type": "code",
   "execution_count": 18,
   "id": "5e73215d",
   "metadata": {},
   "outputs": [
    {
     "data": {
      "text/plain": [
       "array([[ 32,  79,  97],\n",
       "       [ 94, 126, 190]], dtype=int32)"
      ]
     },
     "execution_count": 18,
     "metadata": {},
     "output_type": "execute_result"
    }
   ],
   "source": [
    "arr_6.cumsum(axis=1)"
   ]
  },
  {
   "cell_type": "code",
   "execution_count": 19,
   "id": "450663fe",
   "metadata": {},
   "outputs": [
    {
     "data": {
      "text/plain": [
       "array([18, 32])"
      ]
     },
     "execution_count": 19,
     "metadata": {},
     "output_type": "execute_result"
    }
   ],
   "source": [
    "arr_6.min(axis=1)"
   ]
  },
  {
   "cell_type": "code",
   "execution_count": 20,
   "id": "a832f916",
   "metadata": {},
   "outputs": [
    {
     "data": {
      "text/plain": [
       "array([94, 47, 64])"
      ]
     },
     "execution_count": 20,
     "metadata": {},
     "output_type": "execute_result"
    }
   ],
   "source": [
    "arr_6.max(axis=0)"
   ]
  },
  {
   "cell_type": "code",
   "execution_count": 21,
   "id": "e8984e24",
   "metadata": {},
   "outputs": [
    {
     "name": "stdout",
     "output_type": "stream",
     "text": [
      "arr_3 [1 2 3 4]\n"
     ]
    }
   ],
   "source": [
    "print(\"arr_3\", arr_3)"
   ]
  },
  {
   "cell_type": "code",
   "execution_count": 22,
   "id": "fdb6f797",
   "metadata": {},
   "outputs": [
    {
     "name": "stdout",
     "output_type": "stream",
     "text": [
      "arr_4 [2 4 6 8]\n"
     ]
    }
   ],
   "source": [
    "print(\"arr_4\", arr_4)"
   ]
  },
  {
   "cell_type": "code",
   "execution_count": 23,
   "id": "268e1a0f",
   "metadata": {},
   "outputs": [
    {
     "data": {
      "text/plain": [
       "array([6, 7, 8, 9])"
      ]
     },
     "execution_count": 23,
     "metadata": {},
     "output_type": "execute_result"
    }
   ],
   "source": [
    "np.add(arr_3, 5)"
   ]
  },
  {
   "cell_type": "code",
   "execution_count": 24,
   "id": "bd069141",
   "metadata": {},
   "outputs": [
    {
     "data": {
      "text/plain": [
       "array([ 3,  6,  9, 12])"
      ]
     },
     "execution_count": 24,
     "metadata": {},
     "output_type": "execute_result"
    }
   ],
   "source": [
    "np.add(arr_3, arr_4)"
   ]
  },
  {
   "cell_type": "code",
   "execution_count": 25,
   "id": "66d16e66",
   "metadata": {},
   "outputs": [
    {
     "data": {
      "text/plain": [
       "array([-1, -2, -3, -4])"
      ]
     },
     "execution_count": 25,
     "metadata": {},
     "output_type": "execute_result"
    }
   ],
   "source": [
    "np.subtract(arr_3, arr_4)"
   ]
  },
  {
   "cell_type": "code",
   "execution_count": 26,
   "id": "bfe04e3c",
   "metadata": {},
   "outputs": [
    {
     "data": {
      "text/plain": [
       "array([ 2,  8, 18, 32])"
      ]
     },
     "execution_count": 26,
     "metadata": {},
     "output_type": "execute_result"
    }
   ],
   "source": [
    "np.multiply(arr_3, arr_4)"
   ]
  },
  {
   "cell_type": "code",
   "execution_count": 27,
   "id": "409edb6e",
   "metadata": {},
   "outputs": [
    {
     "data": {
      "text/plain": [
       "array([0.5, 0.5, 0.5, 0.5])"
      ]
     },
     "execution_count": 27,
     "metadata": {},
     "output_type": "execute_result"
    }
   ],
   "source": [
    "np.divide(arr_3, arr_4)"
   ]
  },
  {
   "cell_type": "code",
   "execution_count": 28,
   "id": "d3d61908",
   "metadata": {},
   "outputs": [],
   "source": [
    "arr_5 = np.array([[1, 2], [3, 4]])"
   ]
  },
  {
   "cell_type": "code",
   "execution_count": 29,
   "id": "cb5a4ca2",
   "metadata": {},
   "outputs": [],
   "source": [
    "arr_6 = np.array([[2, 4], [6, 9]])"
   ]
  },
  {
   "cell_type": "code",
   "execution_count": 30,
   "id": "85b100a9",
   "metadata": {},
   "outputs": [
    {
     "name": "stdout",
     "output_type": "stream",
     "text": [
      "arr_5\n",
      " [[1 2]\n",
      " [3 4]]\n"
     ]
    }
   ],
   "source": [
    "print(\"arr_5\\n\", arr_5)"
   ]
  },
  {
   "cell_type": "code",
   "execution_count": 31,
   "id": "66f6a0fa",
   "metadata": {},
   "outputs": [
    {
     "name": "stdout",
     "output_type": "stream",
     "text": [
      "arr_6\n",
      " [[2 4]\n",
      " [6 9]]\n"
     ]
    }
   ],
   "source": [
    "print(\"arr_6\\n\", arr_6)"
   ]
  },
  {
   "cell_type": "code",
   "execution_count": 32,
   "id": "9b92002e",
   "metadata": {},
   "outputs": [
    {
     "data": {
      "text/plain": [
       "array([[0, 0],\n",
       "       [0, 1]], dtype=int32)"
      ]
     },
     "execution_count": 32,
     "metadata": {},
     "output_type": "execute_result"
    }
   ],
   "source": [
    "np.remainder(arr_6, arr_5)"
   ]
  },
  {
   "cell_type": "code",
   "execution_count": 33,
   "id": "141838c4",
   "metadata": {},
   "outputs": [
    {
     "data": {
      "text/plain": [
       "array([[   2,   16],\n",
       "       [ 216, 6561]], dtype=int32)"
      ]
     },
     "execution_count": 33,
     "metadata": {},
     "output_type": "execute_result"
    }
   ],
   "source": [
    "np.power(arr_6, arr_5)"
   ]
  },
  {
   "cell_type": "code",
   "execution_count": 34,
   "id": "2f8e7840",
   "metadata": {},
   "outputs": [
    {
     "data": {
      "text/plain": [
       "array([1.        , 1.41421356, 1.73205081, 2.        ])"
      ]
     },
     "execution_count": 34,
     "metadata": {},
     "output_type": "execute_result"
    }
   ],
   "source": [
    "np.sqrt(arr_3)"
   ]
  },
  {
   "cell_type": "code",
   "execution_count": 35,
   "id": "c76696e1",
   "metadata": {},
   "outputs": [
    {
     "data": {
      "text/plain": [
       "array([1.        , 1.25992105, 1.44224957, 1.58740105])"
      ]
     },
     "execution_count": 35,
     "metadata": {},
     "output_type": "execute_result"
    }
   ],
   "source": [
    "np.cbrt(arr_3)"
   ]
  },
  {
   "cell_type": "code",
   "execution_count": 36,
   "id": "a75ca52f",
   "metadata": {},
   "outputs": [
    {
     "data": {
      "text/plain": [
       "array([1, 2])"
      ]
     },
     "execution_count": 36,
     "metadata": {},
     "output_type": "execute_result"
    }
   ],
   "source": [
    "np.absolute([-1, -2])"
   ]
  },
  {
   "cell_type": "code",
   "execution_count": 37,
   "id": "65f77a3e",
   "metadata": {},
   "outputs": [
    {
     "data": {
      "text/plain": [
       "array([ 2.71828183,  7.3890561 , 20.08553692, 54.59815003])"
      ]
     },
     "execution_count": 37,
     "metadata": {},
     "output_type": "execute_result"
    }
   ],
   "source": [
    "np.exp(arr_3)"
   ]
  },
  {
   "cell_type": "code",
   "execution_count": 38,
   "id": "4bd69627",
   "metadata": {},
   "outputs": [
    {
     "data": {
      "text/plain": [
       "array([0.        , 0.69314718, 1.09861229, 1.38629436])"
      ]
     },
     "execution_count": 38,
     "metadata": {},
     "output_type": "execute_result"
    }
   ],
   "source": [
    "np.log(arr_3)"
   ]
  },
  {
   "cell_type": "code",
   "execution_count": 39,
   "id": "c3d177d9",
   "metadata": {},
   "outputs": [
    {
     "data": {
      "text/plain": [
       "array([0.       , 1.       , 1.5849625, 2.       ])"
      ]
     },
     "execution_count": 39,
     "metadata": {},
     "output_type": "execute_result"
    }
   ],
   "source": [
    "np.log2(arr_3)"
   ]
  },
  {
   "cell_type": "code",
   "execution_count": 40,
   "id": "efd0a97d",
   "metadata": {},
   "outputs": [
    {
     "data": {
      "text/plain": [
       "array([0.        , 0.30103   , 0.47712125, 0.60205999])"
      ]
     },
     "execution_count": 40,
     "metadata": {},
     "output_type": "execute_result"
    }
   ],
   "source": [
    "np.log10(arr_3)"
   ]
  },
  {
   "cell_type": "code",
   "execution_count": 41,
   "id": "a22a1f27",
   "metadata": {},
   "outputs": [
    {
     "data": {
      "text/plain": [
       "3"
      ]
     },
     "execution_count": 41,
     "metadata": {},
     "output_type": "execute_result"
    }
   ],
   "source": [
    "np.gcd.reduce([9, 12, 15])"
   ]
  },
  {
   "cell_type": "code",
   "execution_count": 42,
   "id": "1d14cba6",
   "metadata": {},
   "outputs": [
    {
     "data": {
      "text/plain": [
       "180"
      ]
     },
     "execution_count": 42,
     "metadata": {},
     "output_type": "execute_result"
    }
   ],
   "source": [
    "np.lcm.reduce([9, 12, 15])"
   ]
  },
  {
   "cell_type": "code",
   "execution_count": 43,
   "id": "a40ed19a",
   "metadata": {},
   "outputs": [
    {
     "data": {
      "text/plain": [
       "array([1., 2.])"
      ]
     },
     "execution_count": 43,
     "metadata": {},
     "output_type": "execute_result"
    }
   ],
   "source": [
    "np.floor([1.2, 2.5])"
   ]
  },
  {
   "cell_type": "code",
   "execution_count": 44,
   "id": "9b8e53fd",
   "metadata": {},
   "outputs": [
    {
     "data": {
      "text/plain": [
       "array([2., 3.])"
      ]
     },
     "execution_count": 44,
     "metadata": {},
     "output_type": "execute_result"
    }
   ],
   "source": [
    "np.ceil([1.2, 2.5])"
   ]
  },
  {
   "cell_type": "code",
   "execution_count": 45,
   "id": "33f65947",
   "metadata": {},
   "outputs": [],
   "source": [
    "sq_arr = np.arange(6)**2"
   ]
  },
  {
   "cell_type": "code",
   "execution_count": 46,
   "id": "1a866e9b",
   "metadata": {},
   "outputs": [
    {
     "data": {
      "text/plain": [
       "array([ 1,  4,  9, 16], dtype=int32)"
      ]
     },
     "execution_count": 46,
     "metadata": {},
     "output_type": "execute_result"
    }
   ],
   "source": [
    "sq_arr[arr_3]"
   ]
  },
  {
   "cell_type": "code",
   "execution_count": 47,
   "id": "899c483f",
   "metadata": {},
   "outputs": [],
   "source": [
    "arr_7 = random.randint(100, size=(5, 3))"
   ]
  },
  {
   "cell_type": "code",
   "execution_count": 48,
   "id": "e011a862",
   "metadata": {},
   "outputs": [
    {
     "name": "stdout",
     "output_type": "stream",
     "text": [
      "arr_7\n",
      " [[35 55 68]\n",
      " [18 63 88]\n",
      " [85 31 83]\n",
      " [49 76  7]\n",
      " [89 15 30]]\n"
     ]
    }
   ],
   "source": [
    "print(\"arr_7\\n\", arr_7)"
   ]
  },
  {
   "cell_type": "code",
   "execution_count": 49,
   "id": "d47b25b2",
   "metadata": {},
   "outputs": [],
   "source": [
    "mc_index = arr_7.argmax(axis=0)"
   ]
  },
  {
   "cell_type": "code",
   "execution_count": 50,
   "id": "34205adb",
   "metadata": {},
   "outputs": [
    {
     "data": {
      "text/plain": [
       "array([4, 3, 1], dtype=int64)"
      ]
     },
     "execution_count": 50,
     "metadata": {},
     "output_type": "execute_result"
    }
   ],
   "source": [
    "mc_index"
   ]
  },
  {
   "cell_type": "code",
   "execution_count": 51,
   "id": "1e69811f",
   "metadata": {},
   "outputs": [],
   "source": [
    "max_nums = arr_7[mc_index]"
   ]
  },
  {
   "cell_type": "code",
   "execution_count": 52,
   "id": "316e4442",
   "metadata": {},
   "outputs": [
    {
     "data": {
      "text/plain": [
       "array([89, 76, 88])"
      ]
     },
     "execution_count": 52,
     "metadata": {},
     "output_type": "execute_result"
    }
   ],
   "source": [
    "arr_7[mc_index, range(arr_7.shape[1])]"
   ]
  },
  {
   "cell_type": "code",
   "execution_count": null,
   "id": "e14eeccd",
   "metadata": {},
   "outputs": [],
   "source": []
  }
 ],
 "metadata": {
  "kernelspec": {
   "display_name": "Python 3 (ipykernel)",
   "language": "python",
   "name": "python3"
  },
  "language_info": {
   "codemirror_mode": {
    "name": "ipython",
    "version": 3
   },
   "file_extension": ".py",
   "mimetype": "text/x-python",
   "name": "python",
   "nbconvert_exporter": "python",
   "pygments_lexer": "ipython3",
   "version": "3.8.7"
  }
 },
 "nbformat": 4,
 "nbformat_minor": 5
}
